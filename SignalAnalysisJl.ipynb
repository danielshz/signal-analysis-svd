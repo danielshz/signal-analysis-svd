{
 "cells": [
  {
   "cell_type": "markdown",
   "metadata": {},
   "source": [
    "### Código\n",
    "\n",
    "1. Selecionar sinais e coletar seus pontos ao longo do tempo\n",
    "    - $\\sin(x)$\n",
    "    - $\\cos(x)$\n",
    "    - $c_2 \\sin(x) + c_1 \\cos(x)$\n",
    "    - Onda quadrada\n",
    "    - Onda triangular\n",
    "    - Adicionar ruído nas \"funções-ingredientes\": $c_2 (\\sin(x) + rand) + c_1 \\cos(x) + c_0$\n",
    "    - Adicionar ruído nas funções \"finais\": $c_2 \\sin(x) + c_1 \\cos(x) + c_0 + rand$\n",
    "2. Criar uma matriz com esses pontos (tempo, amplitude)\n",
    "3. Aplicar SVD\n",
    "    - Redução de posto\n",
    "        - Visualizar diferença da matriz aproximada com a original\n",
    "        - Mostrar erro em valor numérico\n",
    "    - Visualização dos left singular vectors (Matriz U)\n",
    "4. Redução de dimensão (analisar grupos)\n",
    "5. Aplicações\n",
    "    - Vozes ou instrumentos\n",
    "\n",
    "obs: Talvez seja uma boa normalizar os sinais antes de aplicar o SVD"
   ]
  },
  {
   "cell_type": "markdown",
   "metadata": {},
   "source": [
    "### Apresentação\n",
    "\n",
    "1. O que são sinais e sua relevância\n",
    "2. Como analisar esses sinais (Fourier X SVD)\n",
    "3. Mostrar código \n",
    "4. Apresentar resultados (gráficos) do SVD em sinais simples (Focar o que o SVD faz com os sinais)\n",
    "5. Aplicações (Classificador)\n",
    "\n",
    "Possíveis resultados\n",
    "1. Remoção de ruído\n",
    "2. Decomposição dos sinais\n",
    "3. Classificação dos tipos de sinais\n"
   ]
  },
  {
   "cell_type": "markdown",
   "metadata": {},
   "source": [
    "## Sinais"
   ]
  },
  {
   "cell_type": "code",
   "execution_count": null,
   "metadata": {},
   "outputs": [],
   "source": [
    "using Plots\n",
    "using LinearAlgebra\n",
    "using Random\n",
    "using WAV\n",
    "using Random, Distributions"
   ]
  },
  {
   "cell_type": "code",
   "execution_count": null,
   "metadata": {},
   "outputs": [],
   "source": [
    "function signal_vec(func, sample_points, noise_level)\n",
    "    return [func(x) + noise_level * rand(Normal(0, 2)) for x in sample_points]\n",
    "end"
   ]
  },
  {
   "cell_type": "code",
   "execution_count": null,
   "metadata": {},
   "outputs": [],
   "source": [
    "function signal_matrix(func, sample_points, noise_level, num_signals)\n",
    "    return hcat([signal_vec(func, sample_points, i*noise_level) for i in 1:num_signals]...)\n",
    "end"
   ]
  },
  {
   "cell_type": "markdown",
   "metadata": {},
   "source": [
    "### $\\sin(x)$"
   ]
  },
  {
   "cell_type": "code",
   "execution_count": null,
   "metadata": {},
   "outputs": [],
   "source": [
    "# Exemplo de sinal sin com ruído\n",
    "\n",
    "sample_points = 0:0.1:10 # pontos de amostragem\n",
    "num_signals = 10 # número de sinais\n",
    "noise_level = 0.01 # nível de ruído\n",
    "\n",
    "sin_signal = signal_matrix(sin, sample_points, noise_level, num_signals)\n",
    "sin_signal_raw = signal_matrix(sin, sample_points, 0, num_signals)\n",
    "\n",
    "plot(sample_points, sin_signal, label=\"Sinais\", xlabel=\"Tempo\", ylabel=\"Amplitude\", title=\"Sinais senoidais com ruído\")"
   ]
  },
  {
   "cell_type": "markdown",
   "metadata": {},
   "source": [
    "### $cos(x/2)$"
   ]
  },
  {
   "cell_type": "code",
   "execution_count": null,
   "metadata": {},
   "outputs": [],
   "source": [
    "# Exemplo de sinal sin com ruído\n",
    "\n",
    "sample_points = 0:0.1:10 # pontos de amostragem\n",
    "num_signals = 10 # número de sinais\n",
    "noise_level = 0.01 # nível de ruído\n",
    "\n",
    "cos_signal = signal_matrix(x -> cos(x/2), sample_points, noise_level, num_signals)\n",
    "cos_signal_raw = signal_matrix(x -> cos(x/2), sample_points, 0, num_signals)\n",
    "\n",
    "plot(sample_points, cos_signal, label=\"Sinais\", xlabel=\"Tempo\", ylabel=\"Amplitude\", title=\"Sinais cos(x/2) com ruído\")"
   ]
  },
  {
   "cell_type": "markdown",
   "metadata": {},
   "source": [
    "### $rand(x)$"
   ]
  },
  {
   "cell_type": "code",
   "execution_count": null,
   "metadata": {},
   "outputs": [],
   "source": [
    "# Exemplo de sinal aleatório com ruído\n",
    "\n",
    "sample_points = 0:0.1:10 # pontos de amostragem\n",
    "num_signals = 10 # número de sinais\n",
    "noise_level = 0.01 # nível de ruído\n",
    "\n",
    "rand_signal = signal_matrix(x -> rand(), sample_points, noise_level, num_signals)\n",
    "rand_signal_raw = signal_matrix(x -> rand(), sample_points, 0, num_signals)\n",
    "\n",
    "plot(sample_points, rand_signal, label=\"Sinais\", xlabel=\"Tempo\", ylabel=\"Amplitude\", title=\"Sinais aleatórios com ruído\")"
   ]
  },
  {
   "cell_type": "markdown",
   "metadata": {},
   "source": [
    "### Sinais com impulso"
   ]
  },
  {
   "cell_type": "code",
   "execution_count": null,
   "metadata": {},
   "outputs": [],
   "source": [
    "# Exemplo de sinal impulso com ruído\n",
    "\n",
    "sample_points = 0:0.1:10 # pontos de amostragem\n",
    "num_signals = 10 # número de sinais\n",
    "noise_level = 0.01 # nível de ruído\n",
    "\n",
    "impulse_signal = signal_matrix(x -> x == 5 ? 1 : 0, sample_points, noise_level, num_signals)\n",
    "impulse_signal_raw = signal_matrix(x -> x == 5 ? 1 : 0, sample_points, 0, num_signals)\n",
    "\n",
    "plot(sample_points, impulse_signal, label=\"Sinais\", xlabel=\"Tempo\", ylabel=\"Amplitude\", title=\"Sinais impulso com ruído\")"
   ]
  },
  {
   "cell_type": "markdown",
   "metadata": {},
   "source": [
    "### $\\sin(x) + \\cos(3x)$"
   ]
  },
  {
   "cell_type": "code",
   "execution_count": null,
   "metadata": {},
   "outputs": [],
   "source": [
    "# Sinal Sin + Cos \n",
    "\n",
    "sample_points = 0:0.1:10 # pontos de amostragem\n",
    "num_signals = 10 # número de sinais\n",
    "noise_level = 0.03 # nível de ruído\n",
    "\n",
    "sin_cos_signal = signal_matrix(x -> sin(x) + cos(3*x), sample_points, noise_level, num_signals)\n",
    "sin_cos_signal_raw = signal_matrix(x -> sin(x) + cos(3*x), sample_points, 0, num_signals)\n",
    "\n",
    "plot(sample_points, sin_cos_signal, label=\"Sinais\", xlabel=\"Tempo\", ylabel=\"Amplitude\", title=\"Sinais sin(x) + cos(3x) com ruído\")"
   ]
  },
  {
   "cell_type": "markdown",
   "metadata": {},
   "source": [
    "### Onda quadrada (adaptada)"
   ]
  },
  {
   "cell_type": "markdown",
   "metadata": {},
   "source": [
    "$$\n",
    "    x_{quadrado} =\n",
    "\n",
    "    \\begin{cases}\n",
    "        1, \\text{se x é par} \\\\\n",
    "        0, \\text{c.c} \\\\\n",
    "    \\end{cases}\n",
    "$$"
   ]
  },
  {
   "cell_type": "code",
   "execution_count": null,
   "metadata": {},
   "outputs": [],
   "source": [
    "# Sinal Quadrado\n",
    "\n",
    "sample_points = 0:0.1:10 # pontos de amostragem\n",
    "num_signals = 10 # número de sinais\n",
    "noise_level = 0.03 # nível de ruído\n",
    "\n",
    "square_func = x -> x % 2 < 1 ? 1 : -1\n",
    "square_signal = signal_matrix(square_func, sample_points, noise_level, num_signals)\n",
    "square_signal_raw = signal_matrix(square_func, sample_points, 0, num_signals)\n",
    "\n",
    "plot(sample_points, square_signal, label=\"Sinais\", xlabel=\"Tempo\", ylabel=\"Amplitude\", title=\"Sinais quadrado com ruído\")"
   ]
  },
  {
   "cell_type": "markdown",
   "metadata": {},
   "source": [
    "### Onda triangular (adaptada)"
   ]
  },
  {
   "cell_type": "markdown",
   "metadata": {},
   "source": [
    "$$\n",
    "    x_{triangular} = 2(x \\bmod 2) - 1\n",
    "$$"
   ]
  },
  {
   "cell_type": "code",
   "execution_count": null,
   "metadata": {},
   "outputs": [],
   "source": [
    "# Sinal Triangular\n",
    "\n",
    "sample_points = 0:0.1:10 # pontos de amostragem\n",
    "num_signals = 10 # número de sinais\n",
    "noise_level = 0.03 # nível de ruído\n",
    "\n",
    "triangle_func = x -> 1 * (x % 2) - 1\n",
    "triangle_signal = signal_matrix(triangle_func, sample_points, noise_level, num_signals)\n",
    "triangle_signal_raw = signal_matrix(triangle_func, sample_points, 0, num_signals)\n",
    "\n",
    "plot(sample_points, triangle_signal, label=\"Sinais\", xlabel=\"Tempo\", ylabel=\"Amplitude\", title=\"Sinais triangular com ruído\")"
   ]
  },
  {
   "cell_type": "markdown",
   "metadata": {},
   "source": [
    "## SVD"
   ]
  },
  {
   "cell_type": "markdown",
   "metadata": {},
   "source": [
    "### Redução de posto"
   ]
  },
  {
   "cell_type": "code",
   "execution_count": null,
   "metadata": {},
   "outputs": [],
   "source": [
    "# Aplicando SVD para decompor os sinais em componentes singulares e reconstruir os sinais a partir de um número menor de componentes\n",
    "\n",
    "function svd_reconstruction(signal_matrix, num_components)\n",
    "    U, Σ, V = svd(signal_matrix)\n",
    "    return U[:, 1:num_components] * Diagonal(Σ[1:num_components]) * V[:, 1:num_components]'\n",
    "end"
   ]
  },
  {
   "cell_type": "markdown",
   "metadata": {},
   "source": [
    "### $\\sin(x)$"
   ]
  },
  {
   "cell_type": "code",
   "execution_count": null,
   "metadata": {},
   "outputs": [],
   "source": [
    "plot(sample_points, sin_signal_raw[:, 1], label=\"\", xlabel=\"Tempo\", ylabel=\"Amplitude\", title=\"sin(x)\")"
   ]
  },
  {
   "cell_type": "markdown",
   "metadata": {},
   "source": [
    "##### Valores singulares"
   ]
  },
  {
   "cell_type": "code",
   "execution_count": null,
   "metadata": {},
   "outputs": [],
   "source": [
    "# Plot dos valores singulares\n",
    "\n",
    "U, Σ, V = svd(sin_signal)\n",
    "\n",
    "plot(Σ, label=\"Valores singulares\", xlabel=\"Número do valor singular\", ylabel=\"Valor singular\", title=\"Valores singulares de sin(x)\", seriestype = :scatter)"
   ]
  },
  {
   "cell_type": "code",
   "execution_count": null,
   "metadata": {},
   "outputs": [],
   "source": [
    "plot(cumsum(Σ) / sum(Σ), label=\"\", xlabel=\"Posto\", ylabel=\"\", title=\"Soma valores singulares de sin(x)\", seriestype = :scatter)"
   ]
  },
  {
   "cell_type": "markdown",
   "metadata": {},
   "source": [
    "#### Posto reduzido"
   ]
  },
  {
   "cell_type": "markdown",
   "metadata": {},
   "source": [
    "##### Posto 1"
   ]
  },
  {
   "cell_type": "code",
   "execution_count": null,
   "metadata": {},
   "outputs": [],
   "source": [
    "# Reconstrução do sinal senoidal com 1 componente\n",
    "\n",
    "reconstructed_signal = svd_reconstruction(sin_signal, 1)\n",
    "\n",
    "plot(sample_points, reconstructed_signal, label=\"Sinais reconstruídos\")"
   ]
  },
  {
   "cell_type": "markdown",
   "metadata": {},
   "source": [
    "#### Primeiro componente principal"
   ]
  },
  {
   "cell_type": "code",
   "execution_count": null,
   "metadata": {},
   "outputs": [],
   "source": [
    "# Analisando o primeiro componente\n",
    "plot(sample_points, U[:, 1], label=\"Primeiro componente\", xlabel=\"Tempo\", ylabel=\"Amplitude\", title=\"Primeiro componente de sin(x)\")"
   ]
  },
  {
   "cell_type": "markdown",
   "metadata": {},
   "source": [
    "#### Diferença com o sinal original"
   ]
  },
  {
   "cell_type": "code",
   "execution_count": null,
   "metadata": {},
   "outputs": [],
   "source": [
    "plot(sample_points, sin_signal_raw - reconstructed_signal, label=\"\", xlabel=\"Tempo\", ylabel=\"Amplitude\")"
   ]
  },
  {
   "cell_type": "markdown",
   "metadata": {},
   "source": [
    "#### Erro"
   ]
  },
  {
   "cell_type": "markdown",
   "metadata": {},
   "source": [
    "##### Gráfico"
   ]
  },
  {
   "cell_type": "code",
   "execution_count": null,
   "metadata": {},
   "outputs": [],
   "source": [
    "plot(sample_points, sin_signal - reconstructed_signal, label=\"\", xlabel=\"Tempo\", ylabel=\"Amplitude\")"
   ]
  },
  {
   "cell_type": "markdown",
   "metadata": {},
   "source": [
    "##### Valor numérico"
   ]
  },
  {
   "cell_type": "code",
   "execution_count": null,
   "metadata": {},
   "outputs": [],
   "source": [
    "# Erro\n",
    "erro_sin = norm(sin_signal - reconstructed_signal)\n",
    "erro_sin_1_componente = norm(U[:, 1] - sin_signal[:, 1])\n",
    "\n",
    "println(\"Erro total: \", erro_sin)\n",
    "println(\"Erro 1 componente: \", erro_sin_1_componente)"
   ]
  },
  {
   "cell_type": "markdown",
   "metadata": {},
   "source": [
    "### $\\sin(x) + \\cos(3x)$, $\\sin(x)$ e $\\cos(x/2)$"
   ]
  },
  {
   "cell_type": "code",
   "execution_count": null,
   "metadata": {},
   "outputs": [],
   "source": [
    "sum_sin_cos_signal_raw = hcat([sin_signal_raw, sin_cos_signal_raw, cos_signal_raw]...)\n",
    "\n",
    "plot(sample_points, sum_sin_cos_signal_raw, label=\"\", xlabel=\"Tempo\", ylabel=\"Amplitude\", title=\"sin(x) + cos(3x), sin(x) e cos(x/2)\")"
   ]
  },
  {
   "cell_type": "code",
   "execution_count": null,
   "metadata": {},
   "outputs": [],
   "source": [
    "# Analisando caso com varios sinais trigronométricos\n",
    "sum_sin_cos_signal = hcat([sin_signal, sin_cos_signal, cos_signal]...)\n",
    "\n",
    "# Plot dos valores singulares\n",
    "U, Σ, V = svd(sum_sin_cos_signal)\n",
    "plot(Σ, label=\"Valores singulares\", xlabel=\"Número do valor singular\", ylabel=\"Valor singular\", title=\"Valores singulares do sinal senoidal + cos\", seriestype = :scatter)"
   ]
  },
  {
   "cell_type": "code",
   "execution_count": null,
   "metadata": {},
   "outputs": [],
   "source": [
    "plot(cumsum(Σ) / sum(Σ), label=\"\", xlabel=\"Posto\", ylabel=\"\", title=\"Soma valores singulares do sinal senoidal + cos\", seriestype = :scatter)"
   ]
  },
  {
   "cell_type": "code",
   "execution_count": null,
   "metadata": {},
   "outputs": [],
   "source": [
    "plot(sample_points, sum_sin_cos_signal, label=\"\", xlabel=\"Tempo\", ylabel=\"Amplitude\", title=\"Sinais senoidal + cos\")"
   ]
  },
  {
   "cell_type": "markdown",
   "metadata": {},
   "source": [
    "#### Posto 1"
   ]
  },
  {
   "cell_type": "code",
   "execution_count": null,
   "metadata": {},
   "outputs": [],
   "source": [
    "# Reconstrução do sinal sin + cos com 1 componente\n",
    "\n",
    "reconstructed_signal_1 = svd_reconstruction(sum_sin_cos_signal, 1)\n",
    "plot(sample_points, reconstructed_signal_1, label=\"\", xlabel=\"Tempo\", ylabel=\"Amplitude\", title=\"Sinais sin + cos reconstruídos\")"
   ]
  },
  {
   "cell_type": "code",
   "execution_count": null,
   "metadata": {},
   "outputs": [],
   "source": [
    "plot(sample_points, sum_sin_cos_signal_raw - reconstructed_signal_1, label=\"\", title=\"Diferença com sinal original\", xlabel=\"Tempo\", ylabel=\"Amplitude\")"
   ]
  },
  {
   "cell_type": "markdown",
   "metadata": {},
   "source": [
    "##### Erro"
   ]
  },
  {
   "cell_type": "code",
   "execution_count": null,
   "metadata": {},
   "outputs": [],
   "source": [
    "plot(sample_points, sum_sin_cos_signal - reconstructed_signal_1, label=\"\", xlabel=\"Tempo\", ylabel=\"Amplitude\")"
   ]
  },
  {
   "cell_type": "markdown",
   "metadata": {},
   "source": [
    "#### Posto 2"
   ]
  },
  {
   "cell_type": "code",
   "execution_count": null,
   "metadata": {},
   "outputs": [],
   "source": [
    "# Reconstrução do sinal senoidal + cos com 2 componente\n",
    "\n",
    "reconstructed_signal_2 = svd_reconstruction(sum_sin_cos_signal, 2)\n",
    "plot(sample_points, reconstructed_signal_2, label=\"\", xlabel=\"Tempo\", ylabel=\"Amplitude\", title=\"Sinais senoidal + cos reconstruídos\")"
   ]
  },
  {
   "cell_type": "code",
   "execution_count": null,
   "metadata": {},
   "outputs": [],
   "source": [
    "plot(sample_points, sum_sin_cos_signal_raw - reconstructed_signal_2, label=\"\", title=\"Diferença com sinal original\", xlabel=\"Tempo\", ylabel=\"Amplitude\")"
   ]
  },
  {
   "cell_type": "markdown",
   "metadata": {},
   "source": [
    "##### Erro"
   ]
  },
  {
   "cell_type": "code",
   "execution_count": null,
   "metadata": {},
   "outputs": [],
   "source": [
    "plot(sample_points, sum_sin_cos_signal - reconstructed_signal_2, label=\"\", xlabel=\"Tempo\", ylabel=\"Amplitude\")"
   ]
  },
  {
   "cell_type": "markdown",
   "metadata": {},
   "source": [
    "#### Posto 3"
   ]
  },
  {
   "cell_type": "code",
   "execution_count": null,
   "metadata": {},
   "outputs": [],
   "source": [
    "# Reconstrução do sinal senoidal + cos com 3 componente\n",
    "\n",
    "reconstructed_signal_3 = svd_reconstruction(sum_sin_cos_signal, 3)\n",
    "plot(sample_points, reconstructed_signal_3, label=\"\", xlabel=\"Tempo\", ylabel=\"Amplitude\", title=\"Sinais senoidal + cos reconstruídos\")"
   ]
  },
  {
   "cell_type": "code",
   "execution_count": null,
   "metadata": {},
   "outputs": [],
   "source": [
    "plot(sample_points, sum_sin_cos_signal_raw - reconstructed_signal_3, label=\"\", title=\"Diferença com sinal original\", xlabel=\"Tempo\", ylabel=\"Amplitude\")"
   ]
  },
  {
   "cell_type": "markdown",
   "metadata": {},
   "source": [
    "##### Erro"
   ]
  },
  {
   "cell_type": "code",
   "execution_count": null,
   "metadata": {},
   "outputs": [],
   "source": [
    "plot(sample_points, sum_sin_cos_signal - reconstructed_signal_3, label=\"\", xlabel=\"Tempo\", ylabel=\"Amplitude\")"
   ]
  },
  {
   "cell_type": "markdown",
   "metadata": {},
   "source": [
    "#### Primeiro componente"
   ]
  },
  {
   "cell_type": "code",
   "execution_count": null,
   "metadata": {},
   "outputs": [],
   "source": [
    "# Analisando o primeiro componente\n",
    "plot(sample_points, U[:, 1], label=\"Primeiro componente\", xlabel=\"Tempo\", ylabel=\"Amplitude\", title=\"Primeiro componente do sinal senoidal + cos\")"
   ]
  },
  {
   "cell_type": "markdown",
   "metadata": {},
   "source": [
    "#### Segundo componente"
   ]
  },
  {
   "cell_type": "code",
   "execution_count": null,
   "metadata": {},
   "outputs": [],
   "source": [
    "# Analisando o segundo componente\n",
    "plot(sample_points, U[:, 2], label=\"Segundo componente\", xlabel=\"Tempo\", ylabel=\"Amplitude\", title=\"Segundo componente do sinal senoidal + cos\")"
   ]
  },
  {
   "cell_type": "markdown",
   "metadata": {},
   "source": [
    "#### Terceiro componente"
   ]
  },
  {
   "cell_type": "code",
   "execution_count": null,
   "metadata": {},
   "outputs": [],
   "source": [
    "# Analisando o segundo componente\n",
    "plot(sample_points, U[:, 3], label=\"Segundo componente\", xlabel=\"Tempo\", ylabel=\"Amplitude\", title=\"Segundo componente do sinal senoidal + cos\")"
   ]
  },
  {
   "cell_type": "markdown",
   "metadata": {},
   "source": [
    "#### Matriz V"
   ]
  },
  {
   "cell_type": "code",
   "execution_count": null,
   "metadata": {},
   "outputs": [],
   "source": [
    "display(V[1:2, :])"
   ]
  },
  {
   "cell_type": "markdown",
   "metadata": {},
   "source": [
    "#### Erro em valor numérico"
   ]
  },
  {
   "cell_type": "code",
   "execution_count": null,
   "metadata": {},
   "outputs": [],
   "source": [
    "erro_sin_cos_1 = norm(sum_sin_cos_signal - reconstructed_signal_1)\n",
    "erro_sin_cos_2 = norm(sum_sin_cos_signal - reconstructed_signal_2)\n",
    "erro_sin_cos_3 = norm(sum_sin_cos_signal - reconstructed_signal_3)\n",
    "\n",
    "println(\"Erro total com 1 componente: \", erro_sin_cos_1)\n",
    "println(\"Erro total com 2 componentes: \", erro_sin_cos_2)\n",
    "println(\"Erro total com 2 componentes: \", erro_sin_cos_3)"
   ]
  },
  {
   "cell_type": "markdown",
   "metadata": {},
   "source": [
    "#### Redução de dimensão"
   ]
  },
  {
   "cell_type": "markdown",
   "metadata": {},
   "source": [
    "##### Dimensão 2"
   ]
  },
  {
   "cell_type": "code",
   "execution_count": null,
   "metadata": {},
   "outputs": [],
   "source": [
    "plot(V[1,1:10], V[2,1:10], label=\"sin(x)\", xlabel=\"C1\", ylabel=\"C2\", title=\"Análise V em dim 2\", seriestype = :scatter, color=\"red\") # sin\n",
    "plot!(V[1,11:20], V[2,11:20], label=\"sin(x) + cos(3x)\", seriestype = :scatter, color=\"blue\") # sin + cos\n",
    "plot!(V[1,21:30], V[2,21:30], label=\"cos(3x)\", seriestype = :scatter, color=\"green\") # cos"
   ]
  },
  {
   "cell_type": "markdown",
   "metadata": {},
   "source": [
    "##### Dimensão 3"
   ]
  },
  {
   "cell_type": "code",
   "execution_count": null,
   "metadata": {},
   "outputs": [],
   "source": [
    "plot(V[1,1:10], V[2,1:10], V[3,1:10], label=\"sin(x)\", xlabel=\"C1\", ylabel=\"C2\", zlabel=\"C3\", title=\"Análise V em dim 3\", seriestype = :scatter, color=\"red\") # sin\n",
    "plot!(V[1,11:20], V[2,11:20], V[3,11:20], label=\"sin(x) + cos(3x)\", seriestype = :scatter, color=\"blue\") # sin + cos\n",
    "plot!(V[1,21:30], V[2,21:30], V[3,21:30], label=\"cos(3x)\", seriestype = :scatter, color=\"green\") # cos"
   ]
  },
  {
   "cell_type": "markdown",
   "metadata": {},
   "source": [
    "### Todos os sinais"
   ]
  },
  {
   "cell_type": "code",
   "execution_count": null,
   "metadata": {},
   "outputs": [],
   "source": [
    "concatenate_signal_raw = hcat(sin_signal_raw, sin_cos_signal_raw, square_signal_raw, triangle_signal_raw, cos_signal_raw)\n",
    "\n",
    "plot(sample_points, concatenate_signal_raw, label=\"\", xlabel=\"Tempo\", ylabel=\"Amplitude\", title=\"Sinais concatenados\")"
   ]
  },
  {
   "cell_type": "code",
   "execution_count": null,
   "metadata": {},
   "outputs": [],
   "source": [
    "# Concatenando sinais sin, sin + cos, quadrado, triangular e cos\n",
    "\n",
    "concatenate_signal = hcat(sin_signal, sin_cos_signal, square_signal, triangle_signal, cos_signal)\n",
    "plot(sample_points, concatenate_signal, label=\"\", xlabel=\"Tempo\", ylabel=\"Amplitude\", title=\"Sinais concatenados\")"
   ]
  },
  {
   "cell_type": "code",
   "execution_count": null,
   "metadata": {},
   "outputs": [],
   "source": [
    "# Plot dos valores singulares \n",
    "U, Σ, V = svd(concatenate_signal)\n",
    "plot(Σ, label=\"Valores singulares\", xlabel=\"Número do valor singular\", ylabel=\"Valor singular\", title=\"Valores singulares do sinal concatenado\", seriestype = :scatter) "
   ]
  },
  {
   "cell_type": "code",
   "execution_count": null,
   "metadata": {},
   "outputs": [],
   "source": [
    "plot(cumsum(Σ) / sum(Σ), label=\"\", xlabel=\"Posto\", ylabel=\"\", title=\"Soma valores singulares do sinal concatenado\", seriestype = :scatter)"
   ]
  },
  {
   "cell_type": "markdown",
   "metadata": {},
   "source": [
    "#### Posto 4"
   ]
  },
  {
   "cell_type": "code",
   "execution_count": null,
   "metadata": {},
   "outputs": [],
   "source": [
    "# Reconstrução do sinal concatenado com 4 componentes\n",
    "\n",
    "reconstructed_signal = svd_reconstruction(concatenate_signal, 4)\n",
    "plot(sample_points, reconstructed_signal, label=\"\", xlabel=\"Tempo\", ylabel=\"Amplitude\", title=\"Sinais concatenados - 4 componentes\")"
   ]
  },
  {
   "cell_type": "code",
   "execution_count": null,
   "metadata": {},
   "outputs": [],
   "source": [
    "plot(sample_points, concatenate_signal_raw - reconstructed_signal, label=\"\", title=\"Diferença com sinal original\", xlabel=\"Tempo\", ylabel=\"Amplitude\")"
   ]
  },
  {
   "cell_type": "markdown",
   "metadata": {},
   "source": [
    "##### Erro"
   ]
  },
  {
   "cell_type": "code",
   "execution_count": null,
   "metadata": {},
   "outputs": [],
   "source": [
    "plot(sample_points, concatenate_signal - reconstructed_signal, label=\"\", xlabel=\"Tempo\", ylabel=\"Amplitude\")"
   ]
  },
  {
   "cell_type": "markdown",
   "metadata": {},
   "source": [
    "#### Componentes"
   ]
  },
  {
   "cell_type": "code",
   "execution_count": null,
   "metadata": {},
   "outputs": [],
   "source": [
    "# Analisando o primeiro componente\n",
    "plot(sample_points, U[:, 1], label=\"Primeiro componente\", xlabel=\"Tempo\", ylabel=\"Amplitude\", title=\"Primeiro componente do sinal concatenado\")"
   ]
  },
  {
   "cell_type": "code",
   "execution_count": null,
   "metadata": {},
   "outputs": [],
   "source": [
    "# Analisando o segundo componente\n",
    "plot(sample_points, U[:, 2], label=\"Segundo componente\", xlabel=\"Tempo\", ylabel=\"Amplitude\", title=\"Segundo componente do sinal concatenado\")"
   ]
  },
  {
   "cell_type": "code",
   "execution_count": null,
   "metadata": {},
   "outputs": [],
   "source": [
    "# Analisando o terceiro componente\n",
    "plot(sample_points, U[:, 3], label=\"Terceiro componente\", xlabel=\"Tempo\", ylabel=\"Amplitude\", title=\"Terceiro componente do sinal concatenado\")"
   ]
  },
  {
   "cell_type": "code",
   "execution_count": null,
   "metadata": {},
   "outputs": [],
   "source": [
    "# Analisando o quarto componente\n",
    "plot(sample_points, U[:, 4], label=\"Quarto componente\", xlabel=\"Tempo\", ylabel=\"Amplitude\", title=\"Quarto componente do sinal concatenado\")"
   ]
  },
  {
   "cell_type": "markdown",
   "metadata": {},
   "source": [
    "#### Matriz V"
   ]
  },
  {
   "cell_type": "code",
   "execution_count": null,
   "metadata": {},
   "outputs": [],
   "source": [
    "display(V[1:4, :])"
   ]
  },
  {
   "cell_type": "markdown",
   "metadata": {},
   "source": [
    "#### Erro"
   ]
  },
  {
   "cell_type": "code",
   "execution_count": null,
   "metadata": {},
   "outputs": [],
   "source": [
    "# Erro\n",
    "erro_concatenate = norm(concatenate_signal - reconstructed_signal)\n",
    "println(\"Erro total: \", erro_concatenate)"
   ]
  },
  {
   "cell_type": "markdown",
   "metadata": {},
   "source": [
    "#### Redução de dimensão"
   ]
  },
  {
   "cell_type": "code",
   "execution_count": null,
   "metadata": {},
   "outputs": [],
   "source": [
    "plot(V[1,1:10], V[2,1:10], label=\"sin(x)\", xlabel=\"C1\", ylabel=\"C2\", title=\"Análise V em dim 2\", seriestype = :scatter, color=\"red\") # sin\n",
    "plot!(V[1,11:20], V[2,11:20], label=\"sin(x) + cos(3x)\", seriestype = :scatter, color=\"blue\") # sin + cos\n",
    "plot!(V[1,21:30], V[2,21:30], label=\"Quadrado\", seriestype = :scatter, color=\"white\") # quadrado\n",
    "plot!(V[1,31:40], V[2,31:40], label=\"Triangular\", seriestype = :scatter, color=\"black\") # triangular\n",
    "plot!(V[1,41:50], V[2,41:50], label=\"cos(x/2)\", seriestype = :scatter, color=\"green\") # cos"
   ]
  },
  {
   "cell_type": "code",
   "execution_count": null,
   "metadata": {},
   "outputs": [],
   "source": [
    "# Análise em 3 dimensões\n",
    "plot(V[1,1:10], V[2,1:10], V[3,1:10], label=\"sin(x)\", xlabel=\"C1\", ylabel=\"C2\", zlabel=\"C3\", title=\"Análise V em dim 3\", seriestype = :scatter, color=\"red\") # sin\n",
    "plot!(V[1,11:20], V[2,11:20], V[3,11:20], label=\"sin(x) + cos(3x)\", seriestype = :scatter, color=\"blue\") # sin + cos\n",
    "plot!(V[1,21:30], V[2,21:30], V[3,21:30], label=\"Quadrado\", seriestype = :scatter, color=\"white\") # quadrado\n",
    "plot!(V[1,31:40], V[2,31:40], V[3,31:40], label=\"Triangular\", seriestype = :scatter, color=\"black\") # triangular\n",
    "plot!(V[1,41:50], V[2,41:50], V[3,41:50], label=\"cos(x/2)\", seriestype = :scatter, color=\"green\") # cos\n"
   ]
  },
  {
   "cell_type": "markdown",
   "metadata": {},
   "source": [
    "# Aplicações"
   ]
  },
  {
   "cell_type": "markdown",
   "metadata": {},
   "source": [
    "### Removendo ruido de sinais"
   ]
  },
  {
   "cell_type": "code",
   "execution_count": null,
   "metadata": {},
   "outputs": [],
   "source": [
    "# # Criando um sinal ruidoso do inicio\n",
    "\n",
    "# sample_points = 0:0.001:10 # pontos de amostragem\n",
    "# num_signals = 100 # número de sinais\n",
    "# noise_level = 1 # nível de ruído\n",
    "\n",
    "# func = x -> sin(4x) + cos(2x)\n",
    "\n",
    "# sin_real_noise = hcat([signal_vec(func, sample_points, noise_level) for i in 1:num_signals]...)\n",
    "\n",
    "# plot(sample_points, sin_real_noise, label=\"\", xlabel=\"Tempo\", ylabel=\"Amplitude\", title=\"Sinais senoidais com ruído\")\n"
   ]
  },
  {
   "cell_type": "code",
   "execution_count": null,
   "metadata": {},
   "outputs": [],
   "source": [
    "# # Plot dos valores singulares\n",
    "# U, Σ, V = svd(sin_real_noise)\n",
    "\n",
    "# plot(Σ, label=\"Valores singulares\", xlabel=\"Número do valor singular\", ylabel=\"Valor singular\", title=\"Valores singulares de sin(x) com ruído\", seriestype = :scatter)"
   ]
  },
  {
   "cell_type": "code",
   "execution_count": null,
   "metadata": {},
   "outputs": [],
   "source": [
    "# # Reconstrução do sinal senoidal com 1 componente\n",
    "\n",
    "# reconstructed_signal = svd_reconstruction(sin_real_noise, 1)\n",
    "\n",
    "# plot(sample_points, reconstructed_signal, label=\"\")"
   ]
  },
  {
   "cell_type": "code",
   "execution_count": null,
   "metadata": {},
   "outputs": [],
   "source": [
    "# # Analisando o primeiro componente\n",
    "\n",
    "# plot(sample_points, U[:, 1], label=\"Primeiro componente\", xlabel=\"Tempo\", ylabel=\"Amplitude\", title=\"Primeiro componente de sin(x) com ruído\")\n"
   ]
  },
  {
   "cell_type": "markdown",
   "metadata": {},
   "source": [
    "### Audio "
   ]
  },
  {
   "cell_type": "code",
   "execution_count": null,
   "metadata": {},
   "outputs": [],
   "source": [
    "noise_level = 0.03"
   ]
  },
  {
   "cell_type": "code",
   "execution_count": null,
   "metadata": {},
   "outputs": [],
   "source": [
    "# abre o arquivo de áudio\n",
    "signal = wavread(\"0_01_0.wav\")\n",
    "# pega o tamanho do audio discretizado\n",
    "n_sample = size(signal[1])[1]\n",
    "# número de sinais ruidosos do mesmo áudio que queremos\n",
    "n_signals = 100\n",
    "\n",
    "# matriz para guardar um número n_signals de sinais ruidosos para aplicar o SVD \n",
    "noise_audio_matrix = zeros(n_sample, n_signals)\n",
    "#noise_audio_matrix[:, 1] = signal[1]\n",
    "\n",
    "for i in 1:n_signals\n",
    "    noise_audio_matrix[:, i] = signal[1] .+ noise_level * rand(Normal(0, 1))\n",
    "end"
   ]
  },
  {
   "cell_type": "code",
   "execution_count": null,
   "metadata": {},
   "outputs": [],
   "source": [
    "plot(1:n_sample, signal[1], label=\"\", xlabel=\"Tempo\", ylabel=\"Amplitude\", title=\"Sinais de som\")"
   ]
  },
  {
   "cell_type": "code",
   "execution_count": null,
   "metadata": {},
   "outputs": [],
   "source": [
    "U, Σ, V = svd(noise_audio_matrix)\n",
    "plot(Σ, label=\"Valores singulares\", xlabel=\"Índice do valor singular\", ylabel=\"Valor singular\", title=\"Valores singulares\", seriestype = :scatter)"
   ]
  },
  {
   "cell_type": "code",
   "execution_count": null,
   "metadata": {},
   "outputs": [],
   "source": [
    "plot(1:n_sample, noise_audio_matrix, label=\"\", xlabel=\"Tempo\", ylabel=\"Amplitude\", title=\"Sinais de som\")"
   ]
  },
  {
   "cell_type": "code",
   "execution_count": null,
   "metadata": {},
   "outputs": [],
   "source": [
    "plot(1:n_sample, U[:, 1], label=\"Primeiro componente\", xlabel=\"Tempo\", ylabel=\"Amplitude\", title=\"Primeiro componente do sinal com som\")\n",
    "\n",
    "erro = norm( - reconstructed_signal)"
   ]
  },
  {
   "cell_type": "code",
   "execution_count": null,
   "metadata": {},
   "outputs": [],
   "source": [
    "plot(1:n_sample, U[:, 2], label=\"Primeiro componente\", xlabel=\"Tempo\", ylabel=\"Amplitude\", title=\"Segundo componente do sinal com som\")"
   ]
  },
  {
   "cell_type": "code",
   "execution_count": null,
   "metadata": {},
   "outputs": [],
   "source": [
    "reconstructed_signal = svd_reconstruction(noise_audio_matrix, 1)\n",
    "plot(1:n_sample, reconstructed_signal, label=\"\", xlabel=\"Tempo\", ylabel=\"Amplitude\", title=\"Sinais de som posto 1\")"
   ]
  },
  {
   "cell_type": "code",
   "execution_count": null,
   "metadata": {},
   "outputs": [],
   "source": [
    "reconstructed_signal = svd_reconstruction(noise_audio_matrix, 2)\n",
    "plot(1:n_sample, reconstructed_signal, label=\"\", xlabel=\"Tempo\", ylabel=\"Amplitude\", title=\"Sinais de som posto 2\")"
   ]
  },
  {
   "cell_type": "code",
   "execution_count": null,
   "metadata": {},
   "outputs": [],
   "source": [
    "# Transformando áudio em vetores para aplicar SVD\n",
    "\n",
    "# Pasta 02\n",
    "sample = 24000\n",
    "audio_0_02 = zeros(sample, 49)\n",
    "for i in 1:49\n",
    "    audio_0_02[:, i] = wavread(\"audio/02/0_02_$i.wav\")[1][1:sample]*randn()\n",
    "end\n",
    "\n"
   ]
  },
  {
   "cell_type": "code",
   "execution_count": null,
   "metadata": {},
   "outputs": [],
   "source": [
    "# Pasta 25\n",
    "\n",
    "audio_0_25 = zeros(sample, 49)\n",
    "for i in 1:49\n",
    "    audio_0_25[:, i] = wavread(\"audio/25/0_25_$i.wav\")[1][1:sample]\n",
    "end"
   ]
  },
  {
   "cell_type": "code",
   "execution_count": null,
   "metadata": {},
   "outputs": [],
   "source": [
    "# Pasta 28\n",
    "\n",
    "audio_0_28 = zeros(sample, 49)\n",
    "for i in 1:49\n",
    "    audio_0_28[:, i] = wavread(\"audio/28/0_28_$i.wav\")[1][1:sample]\n",
    "end"
   ]
  },
  {
   "cell_type": "code",
   "execution_count": null,
   "metadata": {},
   "outputs": [],
   "source": [
    "audio_0 = hcat(audio_0_02, audio_0_25, audio_0_28)\n",
    "size(audio_0)"
   ]
  },
  {
   "cell_type": "code",
   "execution_count": null,
   "metadata": {},
   "outputs": [],
   "source": [
    "# Plot dos valores singulares\n",
    "U, Σ, V = svd(audio_0)\n",
    "plot(Σ, label=\"Valores singulares\", xlabel=\"Número do valor singular\", ylabel=\"Valor singular\", title=\"Valores singulares do áudio 02\", seriestype = :scatter)"
   ]
  },
  {
   "cell_type": "code",
   "execution_count": null,
   "metadata": {},
   "outputs": [],
   "source": [
    "# Plot dos valores singulares\n",
    "U, Σ, V = svd(audio_0_02)\n",
    "plot(Σ, label=\"Valores singulares\", xlabel=\"Número do valor singular\", ylabel=\"Valor singular\", title=\"Valores singulares do áudio 25\", seriestype = :scatter)"
   ]
  },
  {
   "cell_type": "code",
   "execution_count": null,
   "metadata": {},
   "outputs": [],
   "source": [
    "# Plot dos sinais por pessoa\n",
    "plot(audio_0_02, label=\"\", xlabel=\"Tempo\", ylabel=\"Amplitude\", title=\"Sinais de áudio 02\")"
   ]
  },
  {
   "cell_type": "code",
   "execution_count": null,
   "metadata": {},
   "outputs": [],
   "source": [
    "# Adicionando ruído ao sinal de áudio\n",
    "wavwrite(audio_0_noise[:, 1], \"audio_0_noise.wav\", Fs=24000)\n"
   ]
  }
 ],
 "metadata": {
  "kernelspec": {
   "display_name": "Julia 1.9.3",
   "language": "julia",
   "name": "julia-1.9"
  },
  "language_info": {
   "file_extension": ".jl",
   "mimetype": "application/julia",
   "name": "julia",
   "version": "1.9.3"
  }
 },
 "nbformat": 4,
 "nbformat_minor": 2
}
